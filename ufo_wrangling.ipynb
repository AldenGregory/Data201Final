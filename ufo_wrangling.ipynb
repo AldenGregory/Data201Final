{
 "cells": [
  {
   "cell_type": "code",
   "execution_count": 76,
   "id": "ff85a876",
   "metadata": {},
   "outputs": [],
   "source": [
    "import pandas as pd\n",
    "import matplotlib.pyplot as plt\n",
    "import scipy.stats\n",
    "import seaborn as sns"
   ]
  },
  {
   "cell_type": "code",
   "execution_count": 47,
   "id": "1a8005e8",
   "metadata": {},
   "outputs": [
    {
     "name": "stdout",
     "output_type": "stream",
     "text": [
      "(88679, 11)\n"
     ]
    },
    {
     "name": "stderr",
     "output_type": "stream",
     "text": [
      "C:\\Users\\alden\\AppData\\Local\\Temp\\ipykernel_42144\\1916950697.py:2: DtypeWarning: Columns (5,9) have mixed types. Specify dtype option on import or set low_memory=False.\n",
      "  ufo_data = pd.read_csv(\"complete.csv\", on_bad_lines='skip')\n"
     ]
    }
   ],
   "source": [
    "# Lines with incorrect comma number ignored.\n",
    "ufo_data = pd.read_csv(\"complete.csv\", on_bad_lines='skip')\n",
    "print(ufo_data.shape)"
   ]
  },
  {
   "cell_type": "code",
   "execution_count": 48,
   "id": "695ec59b",
   "metadata": {},
   "outputs": [
    {
     "name": "stdout",
     "output_type": "stream",
     "text": [
      "File Length: 88876\n",
      "Bad Line Count: 197\n",
      "Bad Percentage: 0.2216571402853414%\n"
     ]
    }
   ],
   "source": [
    "# We check here how many lines were lost due to incorrect commas.\n",
    "# It was about 0.22% of lines.\n",
    "file_length = len(open(\"complete.csv\", \"r\").readlines())\n",
    "bad_line_count = file_length - len(ufo_data)\n",
    "print(\"File Length: \" + str(file_length))\n",
    "print(\"Bad Line Count: \" + str(bad_line_count))\n",
    "print(\"Bad Percentage: \" + str(bad_line_count / file_length * 100) + \"%\")"
   ]
  },
  {
   "cell_type": "code",
   "execution_count": 49,
   "id": "f7ee1b08",
   "metadata": {},
   "outputs": [
    {
     "name": "stdout",
     "output_type": "stream",
     "text": [
      "US Data Length: 74515\n"
     ]
    }
   ],
   "source": [
    "na_ufo_data = ufo_data[\n",
    "    (ufo_data[\"country\"] == \"us\")\n",
    "    |\n",
    "    (ufo_data[\"city\"].str.endswith(\"(mexico)\"))\n",
    "    |\n",
    "    (ufo_data[\"city\"].str.endswith(\"(canada)\"))\n",
    "    ]\n",
    "print(\"US Data Length: \" + str(len(na_ufo_data)))"
   ]
  },
  {
   "cell_type": "code",
   "execution_count": 50,
   "id": "bcb7213b",
   "metadata": {},
   "outputs": [
    {
     "name": "stdout",
     "output_type": "stream",
     "text": [
      "0\n"
     ]
    }
   ],
   "source": [
    "print(na_ufo_data[\"city\"].isna().sum())"
   ]
  },
  {
   "cell_type": "code",
   "execution_count": 51,
   "id": "ba6b4c95",
   "metadata": {},
   "outputs": [
    {
     "name": "stdout",
     "output_type": "stream",
     "text": [
      "Missing States: 281\n",
      "state\n",
      "ca    9577\n",
      "wa    4292\n",
      "fl    4155\n",
      "tx    3742\n",
      "ny    3234\n",
      "      ... \n",
      "pe      21\n",
      "nt      17\n",
      "yt      11\n",
      "yk       7\n",
      "dc       7\n",
      "Name: count, Length: 67, dtype: int64\n",
      "(74515, 11)\n"
     ]
    }
   ],
   "source": [
    "# No missing state data\n",
    "missing_state_count = na_ufo_data[\"state\"].isna().sum()\n",
    "print(\"Missing States: \" + str(missing_state_count))\n",
    "\n",
    "# Checked for fake states and there were none; 52 unqiue states included Puerto\n",
    "# Rico and Washington DC.\n",
    "print(na_ufo_data[\"state\"].value_counts())\n",
    "print(na_ufo_data.shape)"
   ]
  },
  {
   "cell_type": "code",
   "execution_count": 52,
   "id": "6a552268",
   "metadata": {},
   "outputs": [
    {
     "name": "stdout",
     "output_type": "stream",
     "text": [
      "Missing Times: 0\n"
     ]
    }
   ],
   "source": [
    "# No missing state data\n",
    "missing_time_count = na_ufo_data[\"date posted\"].isna().sum()\n",
    "print(\"Missing Times: \" + str(missing_time_count))"
   ]
  },
  {
   "cell_type": "code",
   "execution_count": 53,
   "id": "1036aebe",
   "metadata": {},
   "outputs": [
    {
     "name": "stdout",
     "output_type": "stream",
     "text": [
      "10/10/2005 07:40\n"
     ]
    }
   ],
   "source": [
    "print(na_ufo_data[\"datetime\"].iloc[123])"
   ]
  },
  {
   "cell_type": "code",
   "execution_count": 54,
   "id": "49b57645",
   "metadata": {},
   "outputs": [
    {
     "name": "stderr",
     "output_type": "stream",
     "text": [
      "C:\\Users\\alden\\AppData\\Local\\Temp\\ipykernel_42144\\3097367527.py:1: SettingWithCopyWarning: \n",
      "A value is trying to be set on a copy of a slice from a DataFrame.\n",
      "Try using .loc[row_indexer,col_indexer] = value instead\n",
      "\n",
      "See the caveats in the documentation: https://pandas.pydata.org/pandas-docs/stable/user_guide/indexing.html#returning-a-view-versus-a-copy\n",
      "  na_ufo_data[\"datetime\"] = na_ufo_data[\"datetime\"].apply(\n"
     ]
    }
   ],
   "source": [
    "na_ufo_data[\"datetime\"] = na_ufo_data[\"datetime\"].apply(\n",
    "    lambda x: x if not x.endswith(\"24:00\") else x[:-5] + \"00:00\"\n",
    ")"
   ]
  },
  {
   "cell_type": "code",
   "execution_count": 55,
   "id": "9036540a",
   "metadata": {},
   "outputs": [
    {
     "name": "stderr",
     "output_type": "stream",
     "text": [
      "C:\\Users\\alden\\AppData\\Local\\Temp\\ipykernel_42144\\3905519749.py:1: SettingWithCopyWarning: \n",
      "A value is trying to be set on a copy of a slice from a DataFrame.\n",
      "Try using .loc[row_indexer,col_indexer] = value instead\n",
      "\n",
      "See the caveats in the documentation: https://pandas.pydata.org/pandas-docs/stable/user_guide/indexing.html#returning-a-view-versus-a-copy\n",
      "  na_ufo_data[\"datetime\"] = pd.to_datetime(na_ufo_data[\"datetime\"])\n"
     ]
    },
    {
     "name": "stdout",
     "output_type": "stream",
     "text": [
      "0    1949\n",
      "3    1956\n",
      "4    1960\n",
      "5    1961\n",
      "7    1965\n",
      "Name: Year, dtype: int32\n"
     ]
    },
    {
     "name": "stderr",
     "output_type": "stream",
     "text": [
      "C:\\Users\\alden\\AppData\\Local\\Temp\\ipykernel_42144\\3905519749.py:2: SettingWithCopyWarning: \n",
      "A value is trying to be set on a copy of a slice from a DataFrame.\n",
      "Try using .loc[row_indexer,col_indexer] = value instead\n",
      "\n",
      "See the caveats in the documentation: https://pandas.pydata.org/pandas-docs/stable/user_guide/indexing.html#returning-a-view-versus-a-copy\n",
      "  na_ufo_data[\"Year\"] = na_ufo_data[\"datetime\"].dt.year\n"
     ]
    }
   ],
   "source": [
    "na_ufo_data[\"datetime\"] = pd.to_datetime(na_ufo_data[\"datetime\"])\n",
    "na_ufo_data[\"Year\"] = na_ufo_data[\"datetime\"].dt.year\n",
    "print(na_ufo_data[\"Year\"].head())"
   ]
  },
  {
   "cell_type": "code",
   "execution_count": 56,
   "id": "957fc078",
   "metadata": {},
   "outputs": [
    {
     "name": "stdout",
     "output_type": "stream",
     "text": [
      "2014-05-08 00:00:00\n",
      "1910-01-01 00:00:00\n"
     ]
    }
   ],
   "source": [
    "print(max(na_ufo_data[\"datetime\"]))\n",
    "print(min(na_ufo_data[\"datetime\"]))"
   ]
  },
  {
   "cell_type": "code",
   "execution_count": 57,
   "id": "3144f35a",
   "metadata": {},
   "outputs": [
    {
     "name": "stdout",
     "output_type": "stream",
     "text": [
      "    Year  Report Number\n",
      "0   1910           5730\n",
      "1   1914           1914\n",
      "2   1920           1920\n",
      "3   1925           1925\n",
      "4   1929           1929\n",
      "..   ...            ...\n",
      "79  2009        8271053\n",
      "80  2010        8090250\n",
      "81  2011        9743295\n",
      "82  2012       14190636\n",
      "83  2013       13704504\n",
      "\n",
      "[84 rows x 2 columns]\n"
     ]
    }
   ],
   "source": [
    "report_count = na_ufo_data.groupby([\"Year\"])[\"Year\"].sum()\n",
    "report_count_frame = pd.DataFrame()\n",
    "report_count_frame[\"Report Number\"] = report_count\n",
    "report_count_frame = report_count_frame.reset_index()\n",
    "# Dropping 2014 because data is not complete\n",
    "report_count_frame = report_count_frame[:-1]\n",
    "print(report_count_frame)"
   ]
  },
  {
   "cell_type": "code",
   "execution_count": 58,
   "id": "3bb356af",
   "metadata": {},
   "outputs": [],
   "source": [
    "military_data = pd.read_csv(\"military_data.csv\")\n",
    "na_spending_table = pd.DataFrame()\n",
    "na_spending_table[\"North America Spending\"] = military_data[\"North America\"]\n",
    "na_spending_table[\"Year\"] = military_data[\"Year\"]"
   ]
  },
  {
   "cell_type": "code",
   "execution_count": 59,
   "id": "c9caa327",
   "metadata": {},
   "outputs": [
    {
     "name": "stdout",
     "output_type": "stream",
     "text": [
      "   North America Spending  Year\n",
      "0                   817.8  1988\n",
      "1                   810.9  1989\n",
      "2                   778.0  1990\n",
      "3                   688.1  1991\n",
      "4                   723.9  1992\n",
      "North America Spending    0\n",
      "Year                      0\n",
      "dtype: int64\n"
     ]
    }
   ],
   "source": [
    "print(na_spending_table.head())\n",
    "print(na_spending_table.isna().sum())"
   ]
  },
  {
   "cell_type": "code",
   "execution_count": 60,
   "id": "311ae892",
   "metadata": {},
   "outputs": [
    {
     "name": "stdout",
     "output_type": "stream",
     "text": [
      "Index(['North America Spending', 'Year'], dtype='object')\n"
     ]
    }
   ],
   "source": [
    "print(na_spending_table.columns)"
   ]
  },
  {
   "cell_type": "code",
   "execution_count": 61,
   "id": "7ae9c397",
   "metadata": {},
   "outputs": [
    {
     "name": "stdout",
     "output_type": "stream",
     "text": [
      "   Year  Report Number  North America Spending\n",
      "0  1988         417480                   817.8\n",
      "1  1989         439569                   810.9\n",
      "2  1990         439790                   778.0\n",
      "3  1991         412137                   688.1\n",
      "4  1992         422304                   723.9\n"
     ]
    }
   ],
   "source": [
    "na_ufo_and_spending = pd.merge(\n",
    "    left = report_count_frame,\n",
    "    right = na_spending_table,\n",
    "    how = \"inner\", \n",
    "    on = \"Year\"\n",
    "    )\n",
    "\n",
    "print(na_ufo_and_spending.head())"
   ]
  },
  {
   "cell_type": "code",
   "execution_count": 62,
   "id": "69368caa",
   "metadata": {},
   "outputs": [],
   "source": [
    "us_population_data = pd.read_csv(\"fred_population.csv\")"
   ]
  },
  {
   "cell_type": "code",
   "execution_count": 63,
   "id": "40c57310",
   "metadata": {},
   "outputs": [
    {
     "name": "stdout",
     "output_type": "stream",
     "text": [
      "0    1960\n",
      "1    1961\n",
      "2    1962\n",
      "3    1963\n",
      "4    1964\n",
      "Name: Year, dtype: int32\n"
     ]
    }
   ],
   "source": [
    "us_population_data[\"observation_date\"] = pd.to_datetime(us_population_data[\"observation_date\"])\n",
    "us_population_data[\"Year\"] = us_population_data[\"observation_date\"].dt.year\n",
    "print(us_population_data[\"Year\"].head())"
   ]
  },
  {
   "cell_type": "code",
   "execution_count": 64,
   "id": "072153b7",
   "metadata": {},
   "outputs": [
    {
     "name": "stdout",
     "output_type": "stream",
     "text": [
      "   Year  Report Number  North America Spending observation_date  \\\n",
      "0  1988         417480                   817.8       1988-01-01   \n",
      "1  1989         439569                   810.9       1989-01-01   \n",
      "2  1990         439790                   778.0       1990-01-01   \n",
      "3  1991         412137                   688.1       1991-01-01   \n",
      "4  1992         422304                   723.9       1992-01-01   \n",
      "\n",
      "   POPTOTUSA647NWDB  Reports per Capita  \n",
      "0         244499000            0.001707  \n",
      "1         246819000            0.001781  \n",
      "2         249623000            0.001762  \n",
      "3         252981000            0.001629  \n",
      "4         256514000            0.001646  \n"
     ]
    }
   ],
   "source": [
    "na_data_for_regression = pd.merge(\n",
    "    left = na_ufo_and_spending,\n",
    "    right = us_population_data,\n",
    "    how = \"inner\", \n",
    "    on = \"Year\"\n",
    "    )\n",
    "\n",
    "na_data_for_regression[\"Reports per Capita\"] = na_data_for_regression[\"Report Number\"] / na_data_for_regression[\"POPTOTUSA647NWDB\"]\n",
    "print(na_data_for_regression.head())"
   ]
  },
  {
   "cell_type": "code",
   "execution_count": 65,
   "id": "3b89a254",
   "metadata": {},
   "outputs": [
    {
     "data": {
      "text/plain": [
       "<matplotlib.collections.PathCollection at 0x1bda620b980>"
      ]
     },
     "execution_count": 65,
     "metadata": {},
     "output_type": "execute_result"
    },
    {
     "data": {
      "image/png": "[encoded data removed]",
      "text/plain": [
       "<Figure size 640x480 with 1 Axes>"
      ]
     },
     "metadata": {},
     "output_type": "display_data"
    }
   ],
   "source": [
    "plt.scatter(x = na_data_for_regression[\"North America Spending\"], y = na_data_for_regression[\"Reports per Capita\"])"
   ]
  },
  {
   "cell_type": "code",
   "execution_count": 66,
   "id": "292bf3ad",
   "metadata": {},
   "outputs": [
    {
     "name": "stdout",
     "output_type": "stream",
     "text": [
      "PearsonRResult(statistic=0.598761047746324, pvalue=0.0012306061223332034)\n"
     ]
    }
   ],
   "source": [
    "print(scipy.stats.pearsonr(x = na_data_for_regression[\"North America Spending\"], y = na_data_for_regression[\"Reports per Capita\"]))"
   ]
  },
  {
   "cell_type": "code",
   "execution_count": 82,
   "id": "2ed801f8",
   "metadata": {},
   "outputs": [
    {
     "name": "stdout",
     "output_type": "stream",
     "text": [
      "0          2700\n",
      "3            20\n",
      "4           900\n",
      "5           300\n",
      "7          1200\n",
      "          ...  \n",
      "88674    1200.0\n",
      "88675       5.0\n",
      "88676    1020.0\n",
      "88677       0.0\n",
      "88678       0.0\n",
      "Name: duration (seconds), Length: 74515, dtype: object\n"
     ]
    },
    {
     "name": "stderr",
     "output_type": "stream",
     "text": [
      "C:\\Users\\alden\\AppData\\Local\\Temp\\ipykernel_42144\\1859684508.py:3: SettingWithCopyWarning: \n",
      "A value is trying to be set on a copy of a slice from a DataFrame.\n",
      "Try using .loc[row_indexer,col_indexer] = value instead\n",
      "\n",
      "See the caveats in the documentation: https://pandas.pydata.org/pandas-docs/stable/user_guide/indexing.html#returning-a-view-versus-a-copy\n",
      "  na_ufo_data[\"duration (seconds)\"] = na_ufo_data[\"duration (seconds)\"].astype(str).str.replace(\"`\", \"\")\n"
     ]
    }
   ],
   "source": [
    "# To prevent 0.0 from being converted to NaN before using str on it, we had to\n",
    "# use astype(str) first (AI assitance).\n",
    "na_ufo_data[\"duration (seconds)\"] = na_ufo_data[\"duration (seconds)\"].astype(str).str.replace(\"`\", \"\")\n",
    "print(na_ufo_data[\"duration (seconds)\"])"
   ]
  },
  {
   "cell_type": "code",
   "execution_count": 72,
   "id": "52038226",
   "metadata": {},
   "outputs": [
    {
     "data": {
      "text/plain": [
       "<matplotlib.collections.PathCollection at 0x1bdaa690620>"
      ]
     },
     "execution_count": 72,
     "metadata": {},
     "output_type": "execute_result"
    },
    {
     "data": {
      "image/png": "[encoded data removed]",
      "text/plain": [
       "<Figure size 640x480 with 1 Axes>"
      ]
     },
     "metadata": {},
     "output_type": "display_data"
    }
   ],
   "source": [
    "\n",
    "plt.scatter(x = na_ufo_data[\"Year\"], y = na_ufo_data[\"duration (seconds)\"])"
   ]
  },
  {
   "cell_type": "code",
   "execution_count": null,
   "id": "6196d8bc",
   "metadata": {},
   "outputs": [],
   "source": [
    "na_ufo_data[\"datetime\"].dt.se"
   ]
  },
  {
   "cell_type": "code",
   "execution_count": 88,
   "id": "72016761",
   "metadata": {},
   "outputs": [
    {
     "name": "stdout",
     "output_type": "stream",
     "text": [
      "count    74515.000000\n",
      "mean     56811.467221\n",
      "std      28056.522172\n",
      "min          0.000000\n",
      "25%      36900.000000\n",
      "50%      70500.000000\n",
      "75%      78300.000000\n",
      "max      86340.000000\n",
      "Name: Time of Day in Seconds, dtype: float64\n"
     ]
    },
    {
     "name": "stderr",
     "output_type": "stream",
     "text": [
      "C:\\Users\\alden\\AppData\\Local\\Temp\\ipykernel_42144\\2547793260.py:1: SettingWithCopyWarning: \n",
      "A value is trying to be set on a copy of a slice from a DataFrame.\n",
      "Try using .loc[row_indexer,col_indexer] = value instead\n",
      "\n",
      "See the caveats in the documentation: https://pandas.pydata.org/pandas-docs/stable/user_guide/indexing.html#returning-a-view-versus-a-copy\n",
      "  na_ufo_data[\"Time of Day in Seconds\"] = na_ufo_data[\"datetime\"].apply(\n"
     ]
    }
   ],
   "source": [
    "na_ufo_data[\"Time of Day in Seconds\"] = na_ufo_data[\"datetime\"].apply(\n",
    "    lambda x: x.hour * 60 * 60 + x.minute * 60 + x.second\n",
    ")\n",
    "print(na_ufo_data[\"Time of Day in Seconds\"].describe())"
   ]
  },
  {
   "cell_type": "code",
   "execution_count": 89,
   "id": "29b26e73",
   "metadata": {},
   "outputs": [
    {
     "data": {
      "text/plain": [
       "<Axes: xlabel='Time of Day in Seconds', ylabel='Count'>"
      ]
     },
     "execution_count": 89,
     "metadata": {},
     "output_type": "execute_result"
    },
    {
     "data": {
      "image/png": "[encoded data removed]",
      "text/plain": [
       "<Figure size 640x480 with 1 Axes>"
      ]
     },
     "metadata": {},
     "output_type": "display_data"
    }
   ],
   "source": [
    "sns.histplot(data = na_ufo_data, x = \"Time of Day in Seconds\")"
   ]
  },
  {
   "cell_type": "code",
   "execution_count": null,
   "id": "f59ac5f5",
   "metadata": {},
   "outputs": [],
   "source": []
  }
 ],
 "metadata": {
  "kernelspec": {
   "display_name": "base",
   "language": "python",
   "name": "python3"
  },
  "language_info": {
   "codemirror_mode": {
    "name": "ipython",
    "version": 3
   },
   "file_extension": ".py",
   "mimetype": "text/x-python",
   "name": "python",
   "nbconvert_exporter": "python",
   "pygments_lexer": "ipython3",
   "version": "3.12.8"
  }
 },
 "nbformat": 4,
 "nbformat_minor": 5
}
