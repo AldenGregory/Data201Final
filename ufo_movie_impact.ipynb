{
 "cells": [
  {
   "cell_type": "code",
   "execution_count": null,
   "id": "cb9c9106",
   "metadata": {},
   "outputs": [],
   "source": [
    "# Import libraries for data manipulation, visualization, and analysis.\n",
    "import pandas as pd  # For data manipulation and analysis.\n",
    "import matplotlib.pyplot as plt  # For creating visualizations.\n",
    "import seaborn as sns  # For advanced data visualization."
   ]
  },
  {
   "cell_type": "code",
   "execution_count": null,
   "id": "7f891be7",
   "metadata": {},
   "outputs": [
    {
     "name": "stderr",
     "output_type": "stream",
     "text": [
      "C:\\Users\\alden\\AppData\\Local\\Temp\\ipykernel_22196\\642900797.py:1: DtypeWarning: Columns (5,9) have mixed types. Specify dtype option on import or set low_memory=False.\n",
      "  ufo_data = pd.read_csv(\"complete.csv\", on_bad_lines = \"skip\")\n"
     ]
    }
   ],
   "source": [
    "# Load UFO data from a CSV file, skipping problematic lines.\n",
    "ufo_data = pd.read_csv(\"complete.csv\", on_bad_lines=\"skip\")\n",
    "\n",
    "# Filter the data to include only UFO sightings in the United States.\n",
    "ufo_data = ufo_data[ufo_data[\"country\"] == \"us\"]"
   ]
  },
  {
   "cell_type": "code",
   "execution_count": null,
   "id": "069a159e",
   "metadata": {},
   "outputs": [
    {
     "name": "stdout",
     "output_type": "stream",
     "text": [
      "                            Title  \\\n",
      "0                Independence Day   \n",
      "1      E.T. the Extra-Terrestrial   \n",
      "2                  Men in Black 3   \n",
      "3               War of the Worlds   \n",
      "4                            Home   \n",
      "5             Monsters vs. Aliens   \n",
      "6                Edge of Tomorrow   \n",
      "7                          Pixels   \n",
      "8   The Day the Earth Stood Still   \n",
      "9                         Arrival   \n",
      "10                    The X Files   \n",
      "\n",
      "                                           Movie Info  Year  \\\n",
      "0   The aliens are coming and their goal is to inv...  1996   \n",
      "1   A troubled child summons the courage to help a...  1982   \n",
      "2   Agent J travels in time to M.I.B.'s early days...  2012   \n",
      "3   An alien invasion threatens the future of huma...  2005   \n",
      "4   An alien on the run from his own people makes ...  2015   \n",
      "5   A woman transformed into a giant after she is ...  2009   \n",
      "6   A soldier fighting aliens gets to relive the s...  2014   \n",
      "7   When aliens misinterpret video feeds of classi...  2015   \n",
      "8   A remake of the 1951 classic science fiction f...  2008   \n",
      "9   A linguist works with the military to communic...  2016   \n",
      "10  Mulder and Scully must fight the government in...  1998   \n",
      "\n",
      "    Domestic Sales (in $) Release Date  \\\n",
      "0               306169268   1996-07-03   \n",
      "1               437141279   1982-06-11   \n",
      "2               179020854   2012-05-23   \n",
      "3               234280354   2005-06-29   \n",
      "4               177397510   2015-03-19   \n",
      "5               198351526   2009-03-19   \n",
      "6               100206256   2014-05-28   \n",
      "7                78747585   2015-07-16   \n",
      "8                79366978   2008-12-10   \n",
      "9               100546139   2016-11-10   \n",
      "10               83898313   2000-08-04   \n",
      "\n",
      "                                                Genre  Year and Quarter  \n",
      "0                   ['Action', 'Adventure', 'Sci-Fi']           1996.75  \n",
      "1                   ['Adventure', 'Family', 'Sci-Fi']           1982.50  \n",
      "2         ['Action', 'Adventure', 'Comedy', 'Sci-Fi']           2012.50  \n",
      "3                   ['Action', 'Adventure', 'Sci-Fi']           2005.50  \n",
      "4   ['Adventure', 'Animation', 'Comedy', 'Family',...           2015.25  \n",
      "5   ['Action', 'Adventure', 'Animation', 'Comedy',...           2009.25  \n",
      "6                   ['Action', 'Adventure', 'Sci-Fi']           2014.50  \n",
      "7           ['Action', 'Comedy', 'Fantasy', 'Sci-Fi']           2015.75  \n",
      "8        ['Adventure', 'Drama', 'Sci-Fi', 'Thriller']           2009.00  \n",
      "9                      ['Drama', 'Mystery', 'Sci-Fi']           2017.00  \n",
      "10         ['Action', 'Horror', 'Sci-Fi', 'Thriller']           2000.75  \n"
     ]
    },
    {
     "name": "stderr",
     "output_type": "stream",
     "text": [
      "C:\\Users\\alden\\AppData\\Local\\Temp\\ipykernel_22196\\3510805062.py:2: UserWarning: Could not infer format, so each element will be parsed individually, falling back to `dateutil`. To ensure parsing is consistent and as-expected, please specify a format.\n",
      "  alien_movies[\"Release Date\"] = pd.to_datetime(alien_movies[\"Release Date\"])\n"
     ]
    }
   ],
   "source": [
    "# Load data about traditional alien movies from a CSV file.\n",
    "alien_movies = pd.read_csv(\"traditional_alien_movies.csv\")\n",
    "\n",
    "# Convert the 'Release Date' column to datetime format for easier manipulation.\n",
    "alien_movies[\"Release Date\"] = pd.to_datetime(alien_movies[\"Release Date\"])\n",
    "\n",
    "# Create a new column combining year and quarter for time-based analysis.\n",
    "alien_movies[\"Year and Quarter\"] = alien_movies[\"Release Date\"].dt.year + alien_movies[\"Release Date\"].dt.quarter / 4\n",
    "\n",
    "# Print the processed alien movie data.\n",
    "print(alien_movies)"
   ]
  },
  {
   "cell_type": "code",
   "execution_count": null,
   "id": "a015b82d",
   "metadata": {},
   "outputs": [
    {
     "name": "stdout",
     "output_type": "stream",
     "text": [
      "0        1950.00\n",
      "3        1957.00\n",
      "4        1961.00\n",
      "5        1962.00\n",
      "7        1966.00\n",
      "          ...   \n",
      "88674    2013.75\n",
      "88675    2013.75\n",
      "88676    2013.75\n",
      "88677    2013.75\n",
      "88678    2013.75\n",
      "Name: Year and Quarter, Length: 70293, dtype: float64\n"
     ]
    }
   ],
   "source": [
    "# Fix any invalid datetime values in the 'datetime' column.\n",
    "ufo_data[\"datetime\"] = ufo_data[\"datetime\"].apply(\n",
    "    lambda x: x if not x.endswith(\"24:00\") else x[:-5] + \"00:00\"\n",
    ")\n",
    "\n",
    "# Convert the 'datetime' column to datetime format for easier manipulation.\n",
    "ufo_data[\"datetime\"] = pd.to_datetime(ufo_data[\"datetime\"])\n",
    "\n",
    "# Create a new column combining year and quarter for time-based analysis.\n",
    "ufo_data[\"Year and Quarter\"] = ufo_data[\"datetime\"].dt.year + ufo_data[\"datetime\"].dt.quarter / 4\n",
    "\n",
    "# Print the processed 'Year and Quarter' data.\n",
    "print(ufo_data[\"Year and Quarter\"])"
   ]
  },
  {
   "cell_type": "code",
   "execution_count": null,
   "id": "e8822078",
   "metadata": {},
   "outputs": [
    {
     "name": "stdout",
     "output_type": "stream",
     "text": [
      "     Year and Quarter  Year observation_date  POPTOTUSA647NWDB  Report Count  \\\n",
      "0             1960.00  1960       1960-01-01         180671000             9   \n",
      "1             1960.25  1960       1960-01-01         180671000             5   \n",
      "2             1960.50  1960       1960-01-01         180671000            24   \n",
      "3             1960.75  1960       1960-01-01         180671000            22   \n",
      "4             1961.00  1961       1961-01-01         183691000             5   \n",
      "..                ...   ...              ...               ...           ...   \n",
      "214           2013.50  2013       2013-01-01         316059947          1328   \n",
      "215           2013.75  2013       2013-01-01         316059947          2236   \n",
      "216           2014.00  2014       2014-01-01         318386329          2001   \n",
      "217           2014.25  2014       2014-01-01         318386329          1480   \n",
      "218           2014.50  2014       2014-01-01         318386329           639   \n",
      "\n",
      "     Reports per Capita  \n",
      "0          4.981430e-08  \n",
      "1          2.767461e-08  \n",
      "2          1.328381e-07  \n",
      "3          1.217683e-07  \n",
      "4          2.721962e-08  \n",
      "..                  ...  \n",
      "214        4.201735e-06  \n",
      "215        7.074607e-06  \n",
      "216        6.284818e-06  \n",
      "217        4.648441e-06  \n",
      "218        2.006996e-06  \n",
      "\n",
      "[219 rows x 6 columns]\n"
     ]
    }
   ],
   "source": [
    "# Group UFO data by 'Year and Quarter' and count the number of reports.\n",
    "reports_by_date = ufo_data.groupby(\"Year and Quarter\").size().reset_index()\n",
    "\n",
    "# Extract the year from the 'Year and Quarter' column for merging with population data.\n",
    "reports_by_date[\"Year\"] = (reports_by_date[\"Year and Quarter\"] // 1).astype(\"int\")\n",
    "\n",
    "# Load population data from a CSV file.\n",
    "population_data = pd.read_csv(\"fred_population.csv\")\n",
    "\n",
    "# Convert the 'observation_date' column to datetime format.\n",
    "population_data[\"observation_date\"] = pd.to_datetime(population_data[\"observation_date\"])\n",
    "\n",
    "# Extract the year from the 'observation_date' column.\n",
    "population_data[\"Year\"] = population_data[\"observation_date\"].dt.year\n",
    "\n",
    "# Merge UFO report data with population data on the 'Year' column.\n",
    "reports_by_date = reports_by_date.merge(right=population_data, on=\"Year\")\n",
    "\n",
    "# Rename and drop columns for clarity.\n",
    "reports_by_date[\"Report Count\"] = reports_by_date[0]\n",
    "reports_by_date.drop(labels=0, axis=\"columns\", inplace=True)\n",
    "\n",
    "# Calculate the number of UFO reports per capita.\n",
    "reports_by_date[\"Reports per Capita\"] = reports_by_date[\"Report Count\"] / reports_by_date[\"POPTOTUSA647NWDB\"]\n",
    "\n",
    "# Print the processed data for analysis.\n",
    "print(reports_by_date)"
   ]
  },
  {
   "cell_type": "code",
   "execution_count": null,
   "id": "d4970282",
   "metadata": {},
   "outputs": [
    {
     "name": "stdout",
     "output_type": "stream",
     "text": [
      "{'Title': 'Independence Day', 'Movie Info': \"The aliens are coming and their goal is to invade and destroy Earth. Fighting superior technology, mankind's best weapon is the will to survive.\", 'Year': 1996, 'Domestic Sales (in $)': 306169268, 'Release Date': Timestamp('1996-07-03 00:00:00'), 'Genre': \"['Action', 'Adventure', 'Sci-Fi']\", 'Year and Quarter': 1996.75}\n",
      "{'Title': 'E.T. the Extra-Terrestrial', 'Movie Info': 'A troubled child summons the courage to help a friendly alien escape from Earth and return to his home planet.', 'Year': 1982, 'Domestic Sales (in $)': 437141279, 'Release Date': Timestamp('1982-06-11 00:00:00'), 'Genre': \"['Adventure', 'Family', 'Sci-Fi']\", 'Year and Quarter': 1982.5}\n",
      "{'Title': 'Men in Black 3', 'Movie Info': \"Agent J travels in time to M.I.B.'s early days in 1969 to stop an alien from assassinating his friend Agent K and changing history.\", 'Year': 2012, 'Domestic Sales (in $)': 179020854, 'Release Date': Timestamp('2012-05-23 00:00:00'), 'Genre': \"['Action', 'Adventure', 'Comedy', 'Sci-Fi']\", 'Year and Quarter': 2012.5}\n",
      "{'Title': 'War of the Worlds', 'Movie Info': 'An alien invasion threatens the future of humanity. The catastrophic nightmare is depicted through the eyes of one American family fighting for survival.', 'Year': 2005, 'Domestic Sales (in $)': 234280354, 'Release Date': Timestamp('2005-06-29 00:00:00'), 'Genre': \"['Action', 'Adventure', 'Sci-Fi']\", 'Year and Quarter': 2005.5}\n",
      "{'Title': 'Home', 'Movie Info': 'An alien on the run from his own people makes friends with a girl. He tries to help her on her quest, but can be an interference.', 'Year': 2015, 'Domestic Sales (in $)': 177397510, 'Release Date': Timestamp('2015-03-19 00:00:00'), 'Genre': \"['Adventure', 'Animation', 'Comedy', 'Family', 'Fantasy', 'Sci-Fi']\", 'Year and Quarter': 2015.25}\n",
      "{'Title': 'Monsters vs. Aliens', 'Movie Info': 'A woman transformed into a giant after she is struck by a meteorite on her wedding day becomes part of a team of monsters sent in by the U.S. government to defeat an alien mastermind trying to take over Earth.', 'Year': 2009, 'Domestic Sales (in $)': 198351526, 'Release Date': Timestamp('2009-03-19 00:00:00'), 'Genre': \"['Action', 'Adventure', 'Animation', 'Comedy', 'Family', 'Fantasy', 'Sci-Fi']\", 'Year and Quarter': 2009.25}\n",
      "{'Title': 'Edge of Tomorrow', 'Movie Info': 'A soldier fighting aliens gets to relive the same day over and over again, the day restarting every time he dies.', 'Year': 2014, 'Domestic Sales (in $)': 100206256, 'Release Date': Timestamp('2014-05-28 00:00:00'), 'Genre': \"['Action', 'Adventure', 'Sci-Fi']\", 'Year and Quarter': 2014.5}\n",
      "{'Title': 'Pixels', 'Movie Info': 'When aliens misinterpret video feeds of classic arcade games as a declaration of war, they attack the Earth in the form of the video games.', 'Year': 2015, 'Domestic Sales (in $)': 78747585, 'Release Date': Timestamp('2015-07-16 00:00:00'), 'Genre': \"['Action', 'Comedy', 'Fantasy', 'Sci-Fi']\", 'Year and Quarter': 2015.75}\n",
      "{'Title': 'The Day the Earth Stood Still', 'Movie Info': 'A remake of the 1951 classic science fiction film about an alien visitor and his giant robot counterpart who visit Earth.', 'Year': 2008, 'Domestic Sales (in $)': 79366978, 'Release Date': Timestamp('2008-12-10 00:00:00'), 'Genre': \"['Adventure', 'Drama', 'Sci-Fi', 'Thriller']\", 'Year and Quarter': 2009.0}\n",
      "{'Title': 'Arrival', 'Movie Info': 'A linguist works with the military to communicate with alien lifeforms after twelve mysterious spacecraft appear around the world.', 'Year': 2016, 'Domestic Sales (in $)': 100546139, 'Release Date': Timestamp('2016-11-10 00:00:00'), 'Genre': \"['Drama', 'Mystery', 'Sci-Fi']\", 'Year and Quarter': 2017.0}\n",
      "{'Title': 'The X Files', 'Movie Info': 'Mulder and Scully must fight the government in a conspiracy and find the truth about an alien colonization of Earth.', 'Year': 1998, 'Domestic Sales (in $)': 83898313, 'Release Date': Timestamp('2000-08-04 00:00:00'), 'Genre': \"['Action', 'Horror', 'Sci-Fi', 'Thriller']\", 'Year and Quarter': 2000.75}\n"
     ]
    },
    {
     "data": {
      "text/plain": [
       "(1980.0, 2019.85)"
      ]
     },
     "execution_count": 96,
     "metadata": {},
     "output_type": "execute_result"
    },
    {
     "data": {
      "image/png": "[encoded data removed]",
      "text/plain": [
       "<Figure size 640x480 with 1 Axes>"
      ]
     },
     "metadata": {},
     "output_type": "display_data"
    }
   ],
   "source": [
    "# Create a line plot showing UFO reports per capita over time.\n",
    "line_plot = sns.lineplot(data=reports_by_date, x=\"Year and Quarter\", y=\"Reports per Capita\")\n",
    "\n",
    "# Get the y-axis limits for adding vertical lines.\n",
    "ymax, ymin = line_plot.get_ylim()\n",
    "\n",
    "# Add vertical lines to the plot for each alien movie release.\n",
    "for movie in alien_movies.to_dict(orient=\"records\"):\n",
    "    print(movie)  # Print movie details for debugging.\n",
    "    line_plot.vlines(x=movie[\"Year and Quarter\"], ymin=ymin, ymax=ymax)\n",
    "\n",
    "# Set the x-axis limit to start from the year 1980.\n",
    "line_plot.set_xlim(left=1980)"
   ]
  },
  {
   "cell_type": "code",
   "execution_count": null,
   "id": "4eef9087",
   "metadata": {},
   "outputs": [],
   "source": []
  }
 ],
 "metadata": {
  "kernelspec": {
   "display_name": "base",
   "language": "python",
   "name": "python3"
  },
  "language_info": {
   "codemirror_mode": {
    "name": "ipython",
    "version": 3
   },
   "file_extension": ".py",
   "mimetype": "text/x-python",
   "name": "python",
   "nbconvert_exporter": "python",
   "pygments_lexer": "ipython3",
   "version": "3.12.8"
  }
 },
 "nbformat": 4,
 "nbformat_minor": 5
}
