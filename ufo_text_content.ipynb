{
 "cells": [
  {
   "cell_type": "code",
   "execution_count": 1,
   "id": "e300f9a7",
   "metadata": {},
   "outputs": [
    {
     "name": "stdout",
     "output_type": "stream",
     "text": [
      "Requirement already satisfied: BERTopic in c:\\users\\alden\\anaconda3\\lib\\site-packages (0.17.0)\n",
      "Requirement already satisfied: hdbscan>=0.8.29 in c:\\users\\alden\\anaconda3\\lib\\site-packages (from BERTopic) (0.8.40)\n",
      "Requirement already satisfied: numpy>=1.20.0 in c:\\users\\alden\\anaconda3\\lib\\site-packages (from BERTopic) (1.26.4)\n",
      "Requirement already satisfied: pandas>=1.1.5 in c:\\users\\alden\\anaconda3\\lib\\site-packages (from BERTopic) (2.2.2)\n",
      "Requirement already satisfied: plotly>=4.7.0 in c:\\users\\alden\\anaconda3\\lib\\site-packages (from BERTopic) (5.24.1)\n",
      "Requirement already satisfied: scikit-learn>=1.0 in c:\\users\\alden\\anaconda3\\lib\\site-packages (from BERTopic) (1.5.1)\n",
      "Requirement already satisfied: sentence-transformers>=0.4.1 in c:\\users\\alden\\anaconda3\\lib\\site-packages (from BERTopic) (4.1.0)\n",
      "Requirement already satisfied: tqdm>=4.41.1 in c:\\users\\alden\\anaconda3\\lib\\site-packages (from BERTopic) (4.66.5)\n",
      "Requirement already satisfied: umap-learn>=0.5.0 in c:\\users\\alden\\anaconda3\\lib\\site-packages (from BERTopic) (0.5.7)\n",
      "Requirement already satisfied: scipy>=1.0 in c:\\users\\alden\\anaconda3\\lib\\site-packages (from hdbscan>=0.8.29->BERTopic) (1.13.1)\n",
      "Requirement already satisfied: joblib>=1.0 in c:\\users\\alden\\anaconda3\\lib\\site-packages (from hdbscan>=0.8.29->BERTopic) (1.4.2)\n",
      "Requirement already satisfied: python-dateutil>=2.8.2 in c:\\users\\alden\\anaconda3\\lib\\site-packages (from pandas>=1.1.5->BERTopic) (2.9.0.post0)\n",
      "Requirement already satisfied: pytz>=2020.1 in c:\\users\\alden\\anaconda3\\lib\\site-packages (from pandas>=1.1.5->BERTopic) (2024.1)\n",
      "Requirement already satisfied: tzdata>=2022.7 in c:\\users\\alden\\anaconda3\\lib\\site-packages (from pandas>=1.1.5->BERTopic) (2023.3)\n",
      "Requirement already satisfied: tenacity>=6.2.0 in c:\\users\\alden\\anaconda3\\lib\\site-packages (from plotly>=4.7.0->BERTopic) (8.2.3)\n",
      "Requirement already satisfied: packaging in c:\\users\\alden\\anaconda3\\lib\\site-packages (from plotly>=4.7.0->BERTopic) (24.1)\n",
      "Requirement already satisfied: threadpoolctl>=3.1.0 in c:\\users\\alden\\anaconda3\\lib\\site-packages (from scikit-learn>=1.0->BERTopic) (3.5.0)\n",
      "Requirement already satisfied: transformers<5.0.0,>=4.41.0 in c:\\users\\alden\\anaconda3\\lib\\site-packages (from sentence-transformers>=0.4.1->BERTopic) (4.51.3)\n",
      "Requirement already satisfied: torch>=1.11.0 in c:\\users\\alden\\anaconda3\\lib\\site-packages (from sentence-transformers>=0.4.1->BERTopic) (2.6.0)\n",
      "Requirement already satisfied: huggingface-hub>=0.20.0 in c:\\users\\alden\\anaconda3\\lib\\site-packages (from sentence-transformers>=0.4.1->BERTopic) (0.30.2)\n",
      "Requirement already satisfied: Pillow in c:\\users\\alden\\anaconda3\\lib\\site-packages (from sentence-transformers>=0.4.1->BERTopic) (10.4.0)\n",
      "Requirement already satisfied: typing_extensions>=4.5.0 in c:\\users\\alden\\anaconda3\\lib\\site-packages (from sentence-transformers>=0.4.1->BERTopic) (4.13.2)\n",
      "Requirement already satisfied: colorama in c:\\users\\alden\\anaconda3\\lib\\site-packages (from tqdm>=4.41.1->BERTopic) (0.4.6)\n",
      "Requirement already satisfied: numba>=0.51.2 in c:\\users\\alden\\anaconda3\\lib\\site-packages (from umap-learn>=0.5.0->BERTopic) (0.60.0)\n",
      "Requirement already satisfied: pynndescent>=0.5 in c:\\users\\alden\\anaconda3\\lib\\site-packages (from umap-learn>=0.5.0->BERTopic) (0.5.13)\n",
      "Requirement already satisfied: filelock in c:\\users\\alden\\anaconda3\\lib\\site-packages (from huggingface-hub>=0.20.0->sentence-transformers>=0.4.1->BERTopic) (3.13.1)\n",
      "Requirement already satisfied: fsspec>=2023.5.0 in c:\\users\\alden\\anaconda3\\lib\\site-packages (from huggingface-hub>=0.20.0->sentence-transformers>=0.4.1->BERTopic) (2024.6.1)\n",
      "Requirement already satisfied: pyyaml>=5.1 in c:\\users\\alden\\anaconda3\\lib\\site-packages (from huggingface-hub>=0.20.0->sentence-transformers>=0.4.1->BERTopic) (6.0.1)\n",
      "Requirement already satisfied: requests in c:\\users\\alden\\anaconda3\\lib\\site-packages (from huggingface-hub>=0.20.0->sentence-transformers>=0.4.1->BERTopic) (2.32.3)\n",
      "Requirement already satisfied: llvmlite<0.44,>=0.43.0dev0 in c:\\users\\alden\\anaconda3\\lib\\site-packages (from numba>=0.51.2->umap-learn>=0.5.0->BERTopic) (0.43.0)\n",
      "Requirement already satisfied: six>=1.5 in c:\\users\\alden\\anaconda3\\lib\\site-packages (from python-dateutil>=2.8.2->pandas>=1.1.5->BERTopic) (1.16.0)\n",
      "Requirement already satisfied: networkx in c:\\users\\alden\\anaconda3\\lib\\site-packages (from torch>=1.11.0->sentence-transformers>=0.4.1->BERTopic) (3.3)\n",
      "Requirement already satisfied: jinja2 in c:\\users\\alden\\anaconda3\\lib\\site-packages (from torch>=1.11.0->sentence-transformers>=0.4.1->BERTopic) (3.1.4)\n",
      "Requirement already satisfied: setuptools in c:\\users\\alden\\anaconda3\\lib\\site-packages (from torch>=1.11.0->sentence-transformers>=0.4.1->BERTopic) (75.1.0)\n",
      "Requirement already satisfied: sympy==1.13.1 in c:\\users\\alden\\anaconda3\\lib\\site-packages (from torch>=1.11.0->sentence-transformers>=0.4.1->BERTopic) (1.13.1)\n",
      "Requirement already satisfied: mpmath<1.4,>=1.1.0 in c:\\users\\alden\\anaconda3\\lib\\site-packages (from sympy==1.13.1->torch>=1.11.0->sentence-transformers>=0.4.1->BERTopic) (1.3.0)\n",
      "Requirement already satisfied: regex!=2019.12.17 in c:\\users\\alden\\anaconda3\\lib\\site-packages (from transformers<5.0.0,>=4.41.0->sentence-transformers>=0.4.1->BERTopic) (2024.9.11)\n",
      "Requirement already satisfied: tokenizers<0.22,>=0.21 in c:\\users\\alden\\anaconda3\\lib\\site-packages (from transformers<5.0.0,>=4.41.0->sentence-transformers>=0.4.1->BERTopic) (0.21.1)\n",
      "Requirement already satisfied: safetensors>=0.4.3 in c:\\users\\alden\\anaconda3\\lib\\site-packages (from transformers<5.0.0,>=4.41.0->sentence-transformers>=0.4.1->BERTopic) (0.5.3)\n",
      "Requirement already satisfied: MarkupSafe>=2.0 in c:\\users\\alden\\anaconda3\\lib\\site-packages (from jinja2->torch>=1.11.0->sentence-transformers>=0.4.1->BERTopic) (2.1.3)\n",
      "Requirement already satisfied: charset-normalizer<4,>=2 in c:\\users\\alden\\anaconda3\\lib\\site-packages (from requests->huggingface-hub>=0.20.0->sentence-transformers>=0.4.1->BERTopic) (3.3.2)\n",
      "Requirement already satisfied: idna<4,>=2.5 in c:\\users\\alden\\anaconda3\\lib\\site-packages (from requests->huggingface-hub>=0.20.0->sentence-transformers>=0.4.1->BERTopic) (3.7)\n",
      "Requirement already satisfied: urllib3<3,>=1.21.1 in c:\\users\\alden\\anaconda3\\lib\\site-packages (from requests->huggingface-hub>=0.20.0->sentence-transformers>=0.4.1->BERTopic) (2.2.3)\n",
      "Requirement already satisfied: certifi>=2017.4.17 in c:\\users\\alden\\anaconda3\\lib\\site-packages (from requests->huggingface-hub>=0.20.0->sentence-transformers>=0.4.1->BERTopic) (2024.12.14)\n",
      "Note: you may need to restart the kernel to use updated packages.\n"
     ]
    }
   ],
   "source": [
    "%pip install BERTopic"
   ]
  },
  {
   "cell_type": "code",
   "execution_count": 75,
   "id": "61f674ea",
   "metadata": {},
   "outputs": [],
   "source": [
    "from bertopic import BERTopic\n",
    "from bertopic.representation import KeyBERTInspired\n",
    "import pandas as pd\n",
    "import matplotlib.pyplot as plt\n",
    "from sentence_transformers import SentenceTransformer\n",
    "import seaborn as sns\n",
    "from sklearn.feature_selection import r_regression"
   ]
  },
  {
   "cell_type": "code",
   "execution_count": 16,
   "id": "c62078ed",
   "metadata": {},
   "outputs": [
    {
     "name": "stderr",
     "output_type": "stream",
     "text": [
      "C:\\Users\\alden\\AppData\\Local\\Temp\\ipykernel_45348\\3462774876.py:1: DtypeWarning: Columns (5,9) have mixed types. Specify dtype option on import or set low_memory=False.\n",
      "  ufo_data = pd.read_csv(\"complete.csv\", on_bad_lines = \"skip\")\n"
     ]
    }
   ],
   "source": [
    "ufo_data = pd.read_csv(\"complete.csv\", on_bad_lines = \"skip\")\n",
    "ufo_data[\"comments\"] = ufo_data[\"comments\"].astype(\"str\")\n",
    "comments = ufo_data[\"comments\"]"
   ]
  },
  {
   "cell_type": "code",
   "execution_count": 18,
   "id": "d582e3f8",
   "metadata": {},
   "outputs": [
    {
     "name": "stderr",
     "output_type": "stream",
     "text": [
      "2025-05-03 11:15:24,579 - BERTopic - Embedding - Transforming documents to embeddings.\n"
     ]
    },
    {
     "data": {
      "application/vnd.jupyter.widget-view+json": {
       "model_id": "1783f09eeebe4059b3131564e6554684",
       "version_major": 2,
       "version_minor": 0
      },
      "text/plain": [
       "Batches:   0%|          | 0/2772 [00:00<?, ?it/s]"
      ]
     },
     "metadata": {},
     "output_type": "display_data"
    },
    {
     "name": "stderr",
     "output_type": "stream",
     "text": [
      "2025-05-03 12:06:11,275 - BERTopic - Embedding - Completed ✓\n",
      "2025-05-03 12:06:11,275 - BERTopic - Dimensionality - Fitting the dimensionality reduction algorithm\n",
      "2025-05-03 12:07:07,053 - BERTopic - Dimensionality - Completed ✓\n",
      "2025-05-03 12:07:07,061 - BERTopic - Cluster - Start clustering the reduced embeddings\n",
      "2025-05-03 12:07:25,710 - BERTopic - Cluster - Completed ✓\n",
      "2025-05-03 12:07:25,719 - BERTopic - Representation - Fine-tuning topics using representation models.\n",
      "2025-05-03 12:10:56,318 - BERTopic - Representation - Completed ✓\n"
     ]
    }
   ],
   "source": [
    "# Code in this block comes from midterm 2.\n",
    "\n",
    "# KeyBERTInspired is used to help describe clusters.\n",
    "representation_model = KeyBERTInspired()\n",
    "\n",
    "# ChatGPT recommended using all-mpnet-base-v2 rather than default model because\n",
    "# it better understands text meaning so reduces outliers in clusters.\n",
    "embedding_model = SentenceTransformer(\"all-mpnet-base-v2\")\n",
    "\n",
    "# In BERTopic, embedding_model converts text to numbers, not just by words\n",
    "# but by meaning using behind the scenes language model capabilities, so that\n",
    "# the text can actually be clustered. The representation model then tries to\n",
    "# describe clusters through keywords.\n",
    "\n",
    "# multilingual to account for variety of review languages.\n",
    "topic_model = BERTopic(representation_model=representation_model, embedding_model= embedding_model, language = \"multilingual\", verbose = True)\n",
    "# topics is list of review cluster for each row of restaurant_data (clusters\n",
    "# are just numbered so topics is a list of ints)\n",
    "topics, probs = topic_model.fit_transform(comments)"
   ]
  },
  {
   "cell_type": "code",
   "execution_count": null,
   "id": "b9c44752",
   "metadata": {},
   "outputs": [
    {
     "data": {
      "application/vnd.plotly.v1+json": {
       "config": {
        "plotlyServerURL": "https://plot.ly"
       },
       "data": [
        {
         "marker": {
          "color": "#D55E00"
         },
         "orientation": "h",
         "type": "bar",
         "x": [
          0.5101935267448425,
          0.5286514759063721,
          0.6114809513092041,
          0.7162351608276367,
          0.7750842571258545
         ],
         "xaxis": "x",
         "y": [
          "fiery  ",
          "fire  ",
          "firework  ",
          "fireballs  ",
          "fireball  "
         ],
         "yaxis": "y"
        },
        {
         "marker": {
          "color": "#0072B2"
         },
         "orientation": "h",
         "type": "bar",
         "x": [
          0.2570621073246002,
          0.2699550986289978,
          0.2702482044696808,
          0.2805643081665039,
          0.29684898257255554
         ],
         "xaxis": "x2",
         "y": [
          "parents  ",
          "happened  ",
          "outside  ",
          "driving  ",
          "lived  "
         ],
         "yaxis": "y2"
        },
        {
         "marker": {
          "color": "#CC79A7"
         },
         "orientation": "h",
         "type": "bar",
         "x": [
          0.33999067544937134,
          0.3573906123638153,
          0.4141239821910858,
          0.6491491198539734,
          0.7825190424919128
         ],
         "xaxis": "x3",
         "y": [
          "orange  ",
          "glowing  ",
          "skies  ",
          "orb  ",
          "orbs  "
         ],
         "yaxis": "y3"
        },
        {
         "marker": {
          "color": "#E69F00"
         },
         "orientation": "h",
         "type": "bar",
         "x": [
          0.3739916682243347,
          0.3928544223308563,
          0.41638728976249695,
          0.5957755446434021,
          0.6783900856971741
         ],
         "xaxis": "x4",
         "y": [
          "objects  ",
          "object  ",
          "cylinder  ",
          "cigars  ",
          "cigar  "
         ],
         "yaxis": "y4"
        },
        {
         "marker": {
          "color": "#56B4E9"
         },
         "orientation": "h",
         "type": "bar",
         "x": [
          0.41159743070602417,
          0.6108893752098083,
          0.6734719276428223,
          0.689857006072998,
          0.7673504948616028
         ],
         "xaxis": "x5",
         "y": [
          "circular  ",
          "discs  ",
          "disks  ",
          "disc  ",
          "disk  "
         ],
         "yaxis": "y5"
        },
        {
         "marker": {
          "color": "#009E73"
         },
         "orientation": "h",
         "type": "bar",
         "x": [
          0.21279427409172058,
          0.21412892639636993,
          0.24326568841934204,
          0.28587806224823,
          0.29064175486564636
         ],
         "xaxis": "x6",
         "y": [
          "watching  ",
          "saw  ",
          "night  ",
          "watched  ",
          "light  "
         ],
         "yaxis": "y6"
        },
        {
         "marker": {
          "color": "#F0E442"
         },
         "orientation": "h",
         "type": "bar",
         "x": [
          0.3487485647201538,
          0.351265549659729,
          0.35129523277282715,
          0.36218783259391785,
          0.41342106461524963
         ],
         "xaxis": "x7",
         "y": [
          "california  ",
          "ca  ",
          "angeles  ",
          "unidentified  ",
          "object  "
         ],
         "yaxis": "y7"
        },
        {
         "marker": {
          "color": "#D55E00"
         },
         "orientation": "h",
         "type": "bar",
         "x": [
          0.3172893822193146,
          0.4537602663040161,
          0.4889945089817047,
          0.7900130748748779,
          0.8944332599639893
         ],
         "xaxis": "x8",
         "y": [
          "investigation  ",
          "observations  ",
          "encounter  ",
          "sighting  ",
          "sightings  "
         ],
         "yaxis": "y8"
        }
       ],
       "layout": {
        "annotations": [
         {
          "font": {
           "size": 16
          },
          "showarrow": false,
          "text": "Topic 0",
          "x": 0.0875,
          "xanchor": "center",
          "xref": "paper",
          "y": 1,
          "yanchor": "bottom",
          "yref": "paper"
         },
         {
          "font": {
           "size": 16
          },
          "showarrow": false,
          "text": "Topic 1",
          "x": 0.36250000000000004,
          "xanchor": "center",
          "xref": "paper",
          "y": 1,
          "yanchor": "bottom",
          "yref": "paper"
         },
         {
          "font": {
           "size": 16
          },
          "showarrow": false,
          "text": "Topic 2",
          "x": 0.6375000000000001,
          "xanchor": "center",
          "xref": "paper",
          "y": 1,
          "yanchor": "bottom",
          "yref": "paper"
         },
         {
          "font": {
           "size": 16
          },
          "showarrow": false,
          "text": "Topic 3",
          "x": 0.9125,
          "xanchor": "center",
          "xref": "paper",
          "y": 1,
          "yanchor": "bottom",
          "yref": "paper"
         },
         {
          "font": {
           "size": 16
          },
          "showarrow": false,
          "text": "Topic 4",
          "x": 0.0875,
          "xanchor": "center",
          "xref": "paper",
          "y": 0.4,
          "yanchor": "bottom",
          "yref": "paper"
         },
         {
          "font": {
           "size": 16
          },
          "showarrow": false,
          "text": "Topic 5",
          "x": 0.36250000000000004,
          "xanchor": "center",
          "xref": "paper",
          "y": 0.4,
          "yanchor": "bottom",
          "yref": "paper"
         },
         {
          "font": {
           "size": 16
          },
          "showarrow": false,
          "text": "Topic 6",
          "x": 0.6375000000000001,
          "xanchor": "center",
          "xref": "paper",
          "y": 0.4,
          "yanchor": "bottom",
          "yref": "paper"
         },
         {
          "font": {
           "size": 16
          },
          "showarrow": false,
          "text": "Topic 7",
          "x": 0.9125,
          "xanchor": "center",
          "xref": "paper",
          "y": 0.4,
          "yanchor": "bottom",
          "yref": "paper"
         }
        ],
        "height": 500,
        "hoverlabel": {
         "bgcolor": "white",
         "font": {
          "family": "Rockwell",
          "size": 16
         }
        },
        "showlegend": false,
        "template": {
         "data": {
          "bar": [
           {
            "error_x": {
             "color": "#2a3f5f"
            },
            "error_y": {
             "color": "#2a3f5f"
            },
            "marker": {
             "line": {
              "color": "white",
              "width": 0.5
             },
             "pattern": {
              "fillmode": "overlay",
              "size": 10,
              "solidity": 0.2
             }
            },
            "type": "bar"
           }
          ],
          "barpolar": [
           {
            "marker": {
             "line": {
              "color": "white",
              "width": 0.5
             },
             "pattern": {
              "fillmode": "overlay",
              "size": 10,
              "solidity": 0.2
             }
            },
            "type": "barpolar"
           }
          ],
          "carpet": [
           {
            "aaxis": {
             "endlinecolor": "#2a3f5f",
             "gridcolor": "#C8D4E3",
             "linecolor": "#C8D4E3",
             "minorgridcolor": "#C8D4E3",
             "startlinecolor": "#2a3f5f"
            },
            "baxis": {
             "endlinecolor": "#2a3f5f",
             "gridcolor": "#C8D4E3",
             "linecolor": "#C8D4E3",
             "minorgridcolor": "#C8D4E3",
             "startlinecolor": "#2a3f5f"
            },
            "type": "carpet"
           }
          ],
          "choropleth": [
           {
            "colorbar": {
             "outlinewidth": 0,
             "ticks": ""
            },
            "type": "choropleth"
           }
          ],
          "contour": [
           {
            "colorbar": {
             "outlinewidth": 0,
             "ticks": ""
            },
            "colorscale": [
             [
              0,
              "#0d0887"
             ],
             [
              0.1111111111111111,
              "#46039f"
             ],
             [
              0.2222222222222222,
              "#7201a8"
             ],
             [
              0.3333333333333333,
              "#9c179e"
             ],
             [
              0.4444444444444444,
              "#bd3786"
             ],
             [
              0.5555555555555556,
              "#d8576b"
             ],
             [
              0.6666666666666666,
              "#ed7953"
             ],
             [
              0.7777777777777778,
              "#fb9f3a"
             ],
             [
              0.8888888888888888,
              "#fdca26"
             ],
             [
              1,
              "#f0f921"
             ]
            ],
            "type": "contour"
           }
          ],
          "contourcarpet": [
           {
            "colorbar": {
             "outlinewidth": 0,
             "ticks": ""
            },
            "type": "contourcarpet"
           }
          ],
          "heatmap": [
           {
            "colorbar": {
             "outlinewidth": 0,
             "ticks": ""
            },
            "colorscale": [
             [
              0,
              "#0d0887"
             ],
             [
              0.1111111111111111,
              "#46039f"
             ],
             [
              0.2222222222222222,
              "#7201a8"
             ],
             [
              0.3333333333333333,
              "#9c179e"
             ],
             [
              0.4444444444444444,
              "#bd3786"
             ],
             [
              0.5555555555555556,
              "#d8576b"
             ],
             [
              0.6666666666666666,
              "#ed7953"
             ],
             [
              0.7777777777777778,
              "#fb9f3a"
             ],
             [
              0.8888888888888888,
              "#fdca26"
             ],
             [
              1,
              "#f0f921"
             ]
            ],
            "type": "heatmap"
           }
          ],
          "heatmapgl": [
           {
            "colorbar": {
             "outlinewidth": 0,
             "ticks": ""
            },
            "colorscale": [
             [
              0,
              "#0d0887"
             ],
             [
              0.1111111111111111,
              "#46039f"
             ],
             [
              0.2222222222222222,
              "#7201a8"
             ],
             [
              0.3333333333333333,
              "#9c179e"
             ],
             [
              0.4444444444444444,
              "#bd3786"
             ],
             [
              0.5555555555555556,
              "#d8576b"
             ],
             [
              0.6666666666666666,
              "#ed7953"
             ],
             [
              0.7777777777777778,
              "#fb9f3a"
             ],
             [
              0.8888888888888888,
              "#fdca26"
             ],
             [
              1,
              "#f0f921"
             ]
            ],
            "type": "heatmapgl"
           }
          ],
          "histogram": [
           {
            "marker": {
             "pattern": {
              "fillmode": "overlay",
              "size": 10,
              "solidity": 0.2
             }
            },
            "type": "histogram"
           }
          ],
          "histogram2d": [
           {
            "colorbar": {
             "outlinewidth": 0,
             "ticks": ""
            },
            "colorscale": [
             [
              0,
              "#0d0887"
             ],
             [
              0.1111111111111111,
              "#46039f"
             ],
             [
              0.2222222222222222,
              "#7201a8"
             ],
             [
              0.3333333333333333,
              "#9c179e"
             ],
             [
              0.4444444444444444,
              "#bd3786"
             ],
             [
              0.5555555555555556,
              "#d8576b"
             ],
             [
              0.6666666666666666,
              "#ed7953"
             ],
             [
              0.7777777777777778,
              "#fb9f3a"
             ],
             [
              0.8888888888888888,
              "#fdca26"
             ],
             [
              1,
              "#f0f921"
             ]
            ],
            "type": "histogram2d"
           }
          ],
          "histogram2dcontour": [
           {
            "colorbar": {
             "outlinewidth": 0,
             "ticks": ""
            },
            "colorscale": [
             [
              0,
              "#0d0887"
             ],
             [
              0.1111111111111111,
              "#46039f"
             ],
             [
              0.2222222222222222,
              "#7201a8"
             ],
             [
              0.3333333333333333,
              "#9c179e"
             ],
             [
              0.4444444444444444,
              "#bd3786"
             ],
             [
              0.5555555555555556,
              "#d8576b"
             ],
             [
              0.6666666666666666,
              "#ed7953"
             ],
             [
              0.7777777777777778,
              "#fb9f3a"
             ],
             [
              0.8888888888888888,
              "#fdca26"
             ],
             [
              1,
              "#f0f921"
             ]
            ],
            "type": "histogram2dcontour"
           }
          ],
          "mesh3d": [
           {
            "colorbar": {
             "outlinewidth": 0,
             "ticks": ""
            },
            "type": "mesh3d"
           }
          ],
          "parcoords": [
           {
            "line": {
             "colorbar": {
              "outlinewidth": 0,
              "ticks": ""
             }
            },
            "type": "parcoords"
           }
          ],
          "pie": [
           {
            "automargin": true,
            "type": "pie"
           }
          ],
          "scatter": [
           {
            "fillpattern": {
             "fillmode": "overlay",
             "size": 10,
             "solidity": 0.2
            },
            "type": "scatter"
           }
          ],
          "scatter3d": [
           {
            "line": {
             "colorbar": {
              "outlinewidth": 0,
              "ticks": ""
             }
            },
            "marker": {
             "colorbar": {
              "outlinewidth": 0,
              "ticks": ""
             }
            },
            "type": "scatter3d"
           }
          ],
          "scattercarpet": [
           {
            "marker": {
             "colorbar": {
              "outlinewidth": 0,
              "ticks": ""
             }
            },
            "type": "scattercarpet"
           }
          ],
          "scattergeo": [
           {
            "marker": {
             "colorbar": {
              "outlinewidth": 0,
              "ticks": ""
             }
            },
            "type": "scattergeo"
           }
          ],
          "scattergl": [
           {
            "marker": {
             "colorbar": {
              "outlinewidth": 0,
              "ticks": ""
             }
            },
            "type": "scattergl"
           }
          ],
          "scattermapbox": [
           {
            "marker": {
             "colorbar": {
              "outlinewidth": 0,
              "ticks": ""
             }
            },
            "type": "scattermapbox"
           }
          ],
          "scatterpolar": [
           {
            "marker": {
             "colorbar": {
              "outlinewidth": 0,
              "ticks": ""
             }
            },
            "type": "scatterpolar"
           }
          ],
          "scatterpolargl": [
           {
            "marker": {
             "colorbar": {
              "outlinewidth": 0,
              "ticks": ""
             }
            },
            "type": "scatterpolargl"
           }
          ],
          "scatterternary": [
           {
            "marker": {
             "colorbar": {
              "outlinewidth": 0,
              "ticks": ""
             }
            },
            "type": "scatterternary"
           }
          ],
          "surface": [
           {
            "colorbar": {
             "outlinewidth": 0,
             "ticks": ""
            },
            "colorscale": [
             [
              0,
              "#0d0887"
             ],
             [
              0.1111111111111111,
              "#46039f"
             ],
             [
              0.2222222222222222,
              "#7201a8"
             ],
             [
              0.3333333333333333,
              "#9c179e"
             ],
             [
              0.4444444444444444,
              "#bd3786"
             ],
             [
              0.5555555555555556,
              "#d8576b"
             ],
             [
              0.6666666666666666,
              "#ed7953"
             ],
             [
              0.7777777777777778,
              "#fb9f3a"
             ],
             [
              0.8888888888888888,
              "#fdca26"
             ],
             [
              1,
              "#f0f921"
             ]
            ],
            "type": "surface"
           }
          ],
          "table": [
           {
            "cells": {
             "fill": {
              "color": "#EBF0F8"
             },
             "line": {
              "color": "white"
             }
            },
            "header": {
             "fill": {
              "color": "#C8D4E3"
             },
             "line": {
              "color": "white"
             }
            },
            "type": "table"
           }
          ]
         },
         "layout": {
          "annotationdefaults": {
           "arrowcolor": "#2a3f5f",
           "arrowhead": 0,
           "arrowwidth": 1
          },
          "autotypenumbers": "strict",
          "coloraxis": {
           "colorbar": {
            "outlinewidth": 0,
            "ticks": ""
           }
          },
          "colorscale": {
           "diverging": [
            [
             0,
             "#8e0152"
            ],
            [
             0.1,
             "#c51b7d"
            ],
            [
             0.2,
             "#de77ae"
            ],
            [
             0.3,
             "#f1b6da"
            ],
            [
             0.4,
             "#fde0ef"
            ],
            [
             0.5,
             "#f7f7f7"
            ],
            [
             0.6,
             "#e6f5d0"
            ],
            [
             0.7,
             "#b8e186"
            ],
            [
             0.8,
             "#7fbc41"
            ],
            [
             0.9,
             "#4d9221"
            ],
            [
             1,
             "#276419"
            ]
           ],
           "sequential": [
            [
             0,
             "#0d0887"
            ],
            [
             0.1111111111111111,
             "#46039f"
            ],
            [
             0.2222222222222222,
             "#7201a8"
            ],
            [
             0.3333333333333333,
             "#9c179e"
            ],
            [
             0.4444444444444444,
             "#bd3786"
            ],
            [
             0.5555555555555556,
             "#d8576b"
            ],
            [
             0.6666666666666666,
             "#ed7953"
            ],
            [
             0.7777777777777778,
             "#fb9f3a"
            ],
            [
             0.8888888888888888,
             "#fdca26"
            ],
            [
             1,
             "#f0f921"
            ]
           ],
           "sequentialminus": [
            [
             0,
             "#0d0887"
            ],
            [
             0.1111111111111111,
             "#46039f"
            ],
            [
             0.2222222222222222,
             "#7201a8"
            ],
            [
             0.3333333333333333,
             "#9c179e"
            ],
            [
             0.4444444444444444,
             "#bd3786"
            ],
            [
             0.5555555555555556,
             "#d8576b"
            ],
            [
             0.6666666666666666,
             "#ed7953"
            ],
            [
             0.7777777777777778,
             "#fb9f3a"
            ],
            [
             0.8888888888888888,
             "#fdca26"
            ],
            [
             1,
             "#f0f921"
            ]
           ]
          },
          "colorway": [
           "#636efa",
           "#EF553B",
           "#00cc96",
           "#ab63fa",
           "#FFA15A",
           "#19d3f3",
           "#FF6692",
           "#B6E880",
           "#FF97FF",
           "#FECB52"
          ],
          "font": {
           "color": "#2a3f5f"
          },
          "geo": {
           "bgcolor": "white",
           "lakecolor": "white",
           "landcolor": "white",
           "showlakes": true,
           "showland": true,
           "subunitcolor": "#C8D4E3"
          },
          "hoverlabel": {
           "align": "left"
          },
          "hovermode": "closest",
          "mapbox": {
           "style": "light"
          },
          "paper_bgcolor": "white",
          "plot_bgcolor": "white",
          "polar": {
           "angularaxis": {
            "gridcolor": "#EBF0F8",
            "linecolor": "#EBF0F8",
            "ticks": ""
           },
           "bgcolor": "white",
           "radialaxis": {
            "gridcolor": "#EBF0F8",
            "linecolor": "#EBF0F8",
            "ticks": ""
           }
          },
          "scene": {
           "xaxis": {
            "backgroundcolor": "white",
            "gridcolor": "#DFE8F3",
            "gridwidth": 2,
            "linecolor": "#EBF0F8",
            "showbackground": true,
            "ticks": "",
            "zerolinecolor": "#EBF0F8"
           },
           "yaxis": {
            "backgroundcolor": "white",
            "gridcolor": "#DFE8F3",
            "gridwidth": 2,
            "linecolor": "#EBF0F8",
            "showbackground": true,
            "ticks": "",
            "zerolinecolor": "#EBF0F8"
           },
           "zaxis": {
            "backgroundcolor": "white",
            "gridcolor": "#DFE8F3",
            "gridwidth": 2,
            "linecolor": "#EBF0F8",
            "showbackground": true,
            "ticks": "",
            "zerolinecolor": "#EBF0F8"
           }
          },
          "shapedefaults": {
           "line": {
            "color": "#2a3f5f"
           }
          },
          "ternary": {
           "aaxis": {
            "gridcolor": "#DFE8F3",
            "linecolor": "#A2B1C6",
            "ticks": ""
           },
           "baxis": {
            "gridcolor": "#DFE8F3",
            "linecolor": "#A2B1C6",
            "ticks": ""
           },
           "bgcolor": "white",
           "caxis": {
            "gridcolor": "#DFE8F3",
            "linecolor": "#A2B1C6",
            "ticks": ""
           }
          },
          "title": {
           "x": 0.05
          },
          "xaxis": {
           "automargin": true,
           "gridcolor": "#EBF0F8",
           "linecolor": "#EBF0F8",
           "ticks": "",
           "title": {
            "standoff": 15
           },
           "zerolinecolor": "#EBF0F8",
           "zerolinewidth": 2
          },
          "yaxis": {
           "automargin": true,
           "gridcolor": "#EBF0F8",
           "linecolor": "#EBF0F8",
           "ticks": "",
           "title": {
            "standoff": 15
           },
           "zerolinecolor": "#EBF0F8",
           "zerolinewidth": 2
          }
         }
        },
        "title": {
         "font": {
          "color": "Black",
          "size": 22
         },
         "text": "Topic Word Scores",
         "x": 0.5,
         "xanchor": "center",
         "yanchor": "top"
        },
        "width": 1000,
        "xaxis": {
         "anchor": "y",
         "domain": [
          0,
          0.175
         ],
         "showgrid": true
        },
        "xaxis2": {
         "anchor": "y2",
         "domain": [
          0.275,
          0.45
         ],
         "showgrid": true
        },
        "xaxis3": {
         "anchor": "y3",
         "domain": [
          0.55,
          0.7250000000000001
         ],
         "showgrid": true
        },
        "xaxis4": {
         "anchor": "y4",
         "domain": [
          0.825,
          1
         ],
         "showgrid": true
        },
        "xaxis5": {
         "anchor": "y5",
         "domain": [
          0,
          0.175
         ],
         "showgrid": true
        },
        "xaxis6": {
         "anchor": "y6",
         "domain": [
          0.275,
          0.45
         ],
         "showgrid": true
        },
        "xaxis7": {
         "anchor": "y7",
         "domain": [
          0.55,
          0.7250000000000001
         ],
         "showgrid": true
        },
        "xaxis8": {
         "anchor": "y8",
         "domain": [
          0.825,
          1
         ],
         "showgrid": true
        },
        "yaxis": {
         "anchor": "x",
         "domain": [
          0.6000000000000001,
          1
         ],
         "showgrid": true
        },
        "yaxis2": {
         "anchor": "x2",
         "domain": [
          0.6000000000000001,
          1
         ],
         "showgrid": true
        },
        "yaxis3": {
         "anchor": "x3",
         "domain": [
          0.6000000000000001,
          1
         ],
         "showgrid": true
        },
        "yaxis4": {
         "anchor": "x4",
         "domain": [
          0.6000000000000001,
          1
         ],
         "showgrid": true
        },
        "yaxis5": {
         "anchor": "x5",
         "domain": [
          0,
          0.4
         ],
         "showgrid": true
        },
        "yaxis6": {
         "anchor": "x6",
         "domain": [
          0,
          0.4
         ],
         "showgrid": true
        },
        "yaxis7": {
         "anchor": "x7",
         "domain": [
          0,
          0.4
         ],
         "showgrid": true
        },
        "yaxis8": {
         "anchor": "x8",
         "domain": [
          0,
          0.4
         ],
         "showgrid": true
        }
       }
      }
     },
     "metadata": {},
     "output_type": "display_data"
    }
   ],
   "source": [
    "topic_model.visualize_barchart()"
   ]
  },
  {
   "cell_type": "code",
   "execution_count": 22,
   "id": "92d5d63a",
   "metadata": {},
   "outputs": [],
   "source": [
    "ufo_data[\"Topic Number\"] = topics"
   ]
  },
  {
   "cell_type": "code",
   "execution_count": 24,
   "id": "eb0f7411",
   "metadata": {},
   "outputs": [
    {
     "name": "stdout",
     "output_type": "stream",
     "text": [
      "Topic Number\n",
      "-1      49499\n",
      " 0       4004\n",
      " 1       1494\n",
      " 2       1041\n",
      " 3       1006\n",
      "        ...  \n",
      " 512       10\n",
      " 513       10\n",
      " 514       10\n",
      " 515       10\n",
      " 516       10\n",
      "Name: count, Length: 518, dtype: int64\n"
     ]
    }
   ],
   "source": [
    "print(ufo_data[\"Topic Number\"].value_counts())"
   ]
  },
  {
   "cell_type": "code",
   "execution_count": 25,
   "id": "806ebdd6",
   "metadata": {},
   "outputs": [
    {
     "name": "stdout",
     "output_type": "stream",
     "text": [
      "0    1949\n",
      "1    1949\n",
      "2    1955\n",
      "3    1956\n",
      "4    1960\n",
      "Name: Year, dtype: int32\n"
     ]
    }
   ],
   "source": [
    "ufo_data[\"datetime\"] = ufo_data[\"datetime\"].apply(\n",
    "    lambda x: x if not x.endswith(\"24:00\") else x[:-5] + \"00:00\"\n",
    ")\n",
    "\n",
    "ufo_data[\"datetime\"] = pd.to_datetime(ufo_data[\"datetime\"])\n",
    "ufo_data[\"Year\"] = ufo_data[\"datetime\"].dt.year\n",
    "print(ufo_data[\"Year\"].head())"
   ]
  },
  {
   "cell_type": "code",
   "execution_count": 29,
   "id": "a81410a5",
   "metadata": {},
   "outputs": [
    {
     "name": "stdout",
     "output_type": "stream",
     "text": [
      "Year  Topic Number\n",
      "1906  -1              1\n",
      "1910  -1              1\n",
      "       3              1\n",
      "       7              1\n",
      "1914  -1              1\n",
      "                     ..\n",
      "2014   496            1\n",
      "       497            2\n",
      "       505            2\n",
      "       514            1\n",
      "       516            1\n",
      "Name: Topic Number, Length: 8843, dtype: int64\n"
     ]
    }
   ],
   "source": [
    "year_counts = ufo_data.groupby([\"Year\", \"Topic Number\"])[\"Topic Number\"].count()\n",
    "print(year_counts)"
   ]
  },
  {
   "cell_type": "code",
   "execution_count": 37,
   "id": "7d899471",
   "metadata": {},
   "outputs": [],
   "source": [
    "year_counts_frame = pd.DataFrame()\n",
    "year_counts_frame[\"Topic Count\"] = year_counts\n",
    "year_counts_frame.reset_index(inplace = True)"
   ]
  },
  {
   "cell_type": "code",
   "execution_count": 38,
   "id": "0ab3180e",
   "metadata": {},
   "outputs": [
    {
     "name": "stdout",
     "output_type": "stream",
     "text": [
      "Index(['Year', 'Topic Number', 'Topic Count'], dtype='object')\n"
     ]
    }
   ],
   "source": [
    "print(year_counts_frame.columns)"
   ]
  },
  {
   "cell_type": "code",
   "execution_count": 42,
   "id": "41d36e78",
   "metadata": {},
   "outputs": [
    {
     "name": "stdout",
     "output_type": "stream",
     "text": [
      "0    1960\n",
      "1    1961\n",
      "2    1962\n",
      "3    1963\n",
      "4    1964\n",
      "Name: Year, dtype: int32\n"
     ]
    }
   ],
   "source": [
    "us_population_data = pd.read_csv(\"fred_population.csv\")\n",
    "us_population_data[\"observation_date\"] = pd.to_datetime(us_population_data[\"observation_date\"])\n",
    "us_population_data[\"Year\"] = us_population_data[\"observation_date\"].dt.year\n",
    "print(us_population_data[\"Year\"].head())"
   ]
  },
  {
   "cell_type": "code",
   "execution_count": 49,
   "id": "f00cb2d7",
   "metadata": {},
   "outputs": [
    {
     "name": "stdout",
     "output_type": "stream",
     "text": [
      "      Year  Topic Number  Topic Count observation_date  POPTOTUSA647NWDB\n",
      "0     1960            -1           36       1960-01-01         180671000\n",
      "1     1960             1            1       1960-01-01         180671000\n",
      "2     1960             3            4       1960-01-01         180671000\n",
      "3     1960             4            3       1960-01-01         180671000\n",
      "4     1960             7            1       1960-01-01         180671000\n",
      "...    ...           ...          ...              ...               ...\n",
      "8574  2014           496            1       2014-01-01         318386329\n",
      "8575  2014           497            2       2014-01-01         318386329\n",
      "8576  2014           505            2       2014-01-01         318386329\n",
      "8577  2014           514            1       2014-01-01         318386329\n",
      "8578  2014           516            1       2014-01-01         318386329\n",
      "\n",
      "[8579 rows x 5 columns]\n"
     ]
    }
   ],
   "source": [
    "year_counts_frame = year_counts_frame.merge(right = us_population_data, how = \"inner\", on = \"Year\")\n",
    "print(year_counts_frame)"
   ]
  },
  {
   "cell_type": "code",
   "execution_count": 51,
   "id": "8d7b2dec",
   "metadata": {},
   "outputs": [
    {
     "name": "stdout",
     "output_type": "stream",
     "text": [
      "      Year  Topic Number  Topic Count observation_date  POPTOTUSA647NWDB  \\\n",
      "0     1960            -1           36       1960-01-01         180671000   \n",
      "1     1960             1            1       1960-01-01         180671000   \n",
      "2     1960             3            4       1960-01-01         180671000   \n",
      "3     1960             4            3       1960-01-01         180671000   \n",
      "4     1960             7            1       1960-01-01         180671000   \n",
      "...    ...           ...          ...              ...               ...   \n",
      "8574  2014           496            1       2014-01-01         318386329   \n",
      "8575  2014           497            2       2014-01-01         318386329   \n",
      "8576  2014           505            2       2014-01-01         318386329   \n",
      "8577  2014           514            1       2014-01-01         318386329   \n",
      "8578  2014           516            1       2014-01-01         318386329   \n",
      "\n",
      "      Topic Count per Capita  \n",
      "0               1.992572e-07  \n",
      "1               5.534923e-09  \n",
      "2               2.213969e-08  \n",
      "3               1.660477e-08  \n",
      "4               5.534923e-09  \n",
      "...                      ...  \n",
      "8574            3.140838e-09  \n",
      "8575            6.281677e-09  \n",
      "8576            6.281677e-09  \n",
      "8577            3.140838e-09  \n",
      "8578            3.140838e-09  \n",
      "\n",
      "[8579 rows x 6 columns]\n"
     ]
    }
   ],
   "source": [
    "year_counts_frame[\"Topic Count per Capita\"] = year_counts_frame[\"Topic Count\"] / year_counts_frame[\"POPTOTUSA647NWDB\"]\n",
    "print(year_counts_frame)"
   ]
  },
  {
   "cell_type": "code",
   "execution_count": 77,
   "id": "cfcd477f",
   "metadata": {},
   "outputs": [
    {
     "name": "stdout",
     "output_type": "stream",
     "text": [
      "Topic: 0\n"
     ]
    },
    {
     "ename": "NameError",
     "evalue": "name 'r_v' is not defined",
     "output_type": "error",
     "traceback": [
      "\u001b[1;31m---------------------------------------------------------------------------\u001b[0m",
      "\u001b[1;31mNameError\u001b[0m                                 Traceback (most recent call last)",
      "Cell \u001b[1;32mIn[77], line 5\u001b[0m\n\u001b[0;32m      3\u001b[0m topic_data \u001b[38;5;241m=\u001b[39m year_counts_frame[year_counts_frame[\u001b[38;5;124m\"\u001b[39m\u001b[38;5;124mTopic Number\u001b[39m\u001b[38;5;124m\"\u001b[39m] \u001b[38;5;241m==\u001b[39m i]\n\u001b[0;32m      4\u001b[0m r_value \u001b[38;5;241m=\u001b[39m r_regression(topic_data[[\u001b[38;5;124m\"\u001b[39m\u001b[38;5;124mYear\u001b[39m\u001b[38;5;124m\"\u001b[39m]], topic_data[\u001b[38;5;124m\"\u001b[39m\u001b[38;5;124mTopic Count per Capita\u001b[39m\u001b[38;5;124m\"\u001b[39m])\n\u001b[1;32m----> 5\u001b[0m \u001b[38;5;28mprint\u001b[39m(r_v)\n\u001b[0;32m      6\u001b[0m plt\u001b[38;5;241m.\u001b[39mscatter(x \u001b[38;5;241m=\u001b[39m topic_data[\u001b[38;5;124m\"\u001b[39m\u001b[38;5;124mYear\u001b[39m\u001b[38;5;124m\"\u001b[39m], y \u001b[38;5;241m=\u001b[39m topic_data[\u001b[38;5;124m\"\u001b[39m\u001b[38;5;124mTopic Count per Capita\u001b[39m\u001b[38;5;124m\"\u001b[39m])\n\u001b[0;32m      7\u001b[0m plt\u001b[38;5;241m.\u001b[39mshow()\n",
      "\u001b[1;31mNameError\u001b[0m: name 'r_v' is not defined"
     ]
    }
   ],
   "source": [
    "for i in range(10):\n",
    "    print(\"Topic: \" + str(i))\n",
    "    topic_data = year_counts_frame[year_counts_frame[\"Topic Number\"] == i]\n",
    "    r_value = r_regression(topic_data[[\"Year\"]], topic_data[\"Topic Count per Capita\"])\n",
    "    print(r_v)\n",
    "    plt.scatter(x = topic_data[\"Year\"], y = topic_data[\"Topic Count per Capita\"])\n",
    "    plt.show()"
   ]
  },
  {
   "cell_type": "code",
   "execution_count": 54,
   "id": "01c9b3bd",
   "metadata": {},
   "outputs": [
    {
     "name": "stdout",
     "output_type": "stream",
     "text": [
      "Year\n",
      "1906       1\n",
      "1910       3\n",
      "1914       1\n",
      "1916       1\n",
      "1917       1\n",
      "        ... \n",
      "2010    4690\n",
      "2011    5521\n",
      "2012    7925\n",
      "2013    7598\n",
      "2014    2473\n",
      "Name: Year, Length: 90, dtype: int64\n"
     ]
    }
   ],
   "source": [
    "total_reports_by_year = ufo_data.groupby([\"Year\"])[\"Year\"].count()\n",
    "print(total_reports_by_year)"
   ]
  },
  {
   "cell_type": "code",
   "execution_count": 56,
   "id": "31552071",
   "metadata": {},
   "outputs": [
    {
     "name": "stdout",
     "output_type": "stream",
     "text": [
      "      Year  Topic Number  Topic Count observation_date  POPTOTUSA647NWDB  \\\n",
      "0     1960            -1           36       1960-01-01         180671000   \n",
      "1     1960             1            1       1960-01-01         180671000   \n",
      "2     1960             3            4       1960-01-01         180671000   \n",
      "3     1960             4            3       1960-01-01         180671000   \n",
      "4     1960             7            1       1960-01-01         180671000   \n",
      "...    ...           ...          ...              ...               ...   \n",
      "8574  2014           496            1       2014-01-01         318386329   \n",
      "8575  2014           497            2       2014-01-01         318386329   \n",
      "8576  2014           505            2       2014-01-01         318386329   \n",
      "8577  2014           514            1       2014-01-01         318386329   \n",
      "8578  2014           516            1       2014-01-01         318386329   \n",
      "\n",
      "      Topic Count per Capita  Yearly Total  \n",
      "0               1.992572e-07            77  \n",
      "1               5.534923e-09            77  \n",
      "2               2.213969e-08            77  \n",
      "3               1.660477e-08            77  \n",
      "4               5.534923e-09            77  \n",
      "...                      ...           ...  \n",
      "8574            3.140838e-09          2473  \n",
      "8575            6.281677e-09          2473  \n",
      "8576            6.281677e-09          2473  \n",
      "8577            3.140838e-09          2473  \n",
      "8578            3.140838e-09          2473  \n",
      "\n",
      "[8579 rows x 7 columns]\n"
     ]
    }
   ],
   "source": [
    "year_counts_frame[\"Yearly Total\"] = \\\n",
    "    year_counts_frame[\"Year\"].apply(lambda x: total_reports_by_year[x])\n",
    "print(year_counts_frame)"
   ]
  },
  {
   "cell_type": "code",
   "execution_count": 64,
   "id": "3ddb152c",
   "metadata": {},
   "outputs": [
    {
     "name": "stdout",
     "output_type": "stream",
     "text": [
      "      Year  Topic Number  Topic Count observation_date  POPTOTUSA647NWDB  \\\n",
      "0     1960            -1           36       1960-01-01         180671000   \n",
      "1     1960             1            1       1960-01-01         180671000   \n",
      "2     1960             3            4       1960-01-01         180671000   \n",
      "3     1960             4            3       1960-01-01         180671000   \n",
      "4     1960             7            1       1960-01-01         180671000   \n",
      "...    ...           ...          ...              ...               ...   \n",
      "8574  2014           496            1       2014-01-01         318386329   \n",
      "8575  2014           497            2       2014-01-01         318386329   \n",
      "8576  2014           505            2       2014-01-01         318386329   \n",
      "8577  2014           514            1       2014-01-01         318386329   \n",
      "8578  2014           516            1       2014-01-01         318386329   \n",
      "\n",
      "      Topic Count per Capita  Yearly Total  Yearly Topic Proportion  \n",
      "0               1.992572e-07            77                46.753247  \n",
      "1               5.534923e-09            77                 1.298701  \n",
      "2               2.213969e-08            77                 5.194805  \n",
      "3               1.660477e-08            77                 3.896104  \n",
      "4               5.534923e-09            77                 1.298701  \n",
      "...                      ...           ...                      ...  \n",
      "8574            3.140838e-09          2473                 0.040437  \n",
      "8575            6.281677e-09          2473                 0.080873  \n",
      "8576            6.281677e-09          2473                 0.080873  \n",
      "8577            3.140838e-09          2473                 0.040437  \n",
      "8578            3.140838e-09          2473                 0.040437  \n",
      "\n",
      "[8579 rows x 8 columns]\n"
     ]
    }
   ],
   "source": [
    "year_counts_frame[\"Yearly Topic Proportion\"] = year_counts_frame[\"Topic Count\"]/ year_counts_frame[\"Yearly Total\"] * 100\n",
    "print(year_counts_frame)"
   ]
  },
  {
   "cell_type": "code",
   "execution_count": 80,
   "id": "51c39c68",
   "metadata": {},
   "outputs": [
    {
     "name": "stdout",
     "output_type": "stream",
     "text": [
      "Topic: 0\n",
      "[0.57614644]\n"
     ]
    },
    {
     "data": {
      "image/png": "[encoded data removed]",
      "text/plain": [
       "<Figure size 640x480 with 1 Axes>"
      ]
     },
     "metadata": {},
     "output_type": "display_data"
    },
    {
     "name": "stdout",
     "output_type": "stream",
     "text": [
      "Topic: 1\n",
      "[-0.6394867]\n"
     ]
    },
    {
     "data": {
      "image/png": "[encoded data removed]",
      "text/plain": [
       "<Figure size 640x480 with 1 Axes>"
      ]
     },
     "metadata": {},
     "output_type": "display_data"
    },
    {
     "name": "stdout",
     "output_type": "stream",
     "text": [
      "Topic: 2\n",
      "[0.49473155]\n"
     ]
    },
    {
     "data": {
      "image/png": "[encoded data removed]",
      "text/plain": [
       "<Figure size 640x480 with 1 Axes>"
      ]
     },
     "metadata": {},
     "output_type": "display_data"
    },
    {
     "name": "stdout",
     "output_type": "stream",
     "text": [
      "Topic: 3\n",
      "[-0.57738982]\n"
     ]
    },
    {
     "data": {
      "image/png": "[encoded data removed]",
      "text/plain": [
       "<Figure size 640x480 with 1 Axes>"
      ]
     },
     "metadata": {},
     "output_type": "display_data"
    },
    {
     "name": "stdout",
     "output_type": "stream",
     "text": [
      "Topic: 4\n",
      "[-0.70674664]\n"
     ]
    },
    {
     "data": {
      "image/png": "[encoded data removed]",
      "text/plain": [
       "<Figure size 640x480 with 1 Axes>"
      ]
     },
     "metadata": {},
     "output_type": "display_data"
    },
    {
     "name": "stdout",
     "output_type": "stream",
     "text": [
      "Topic: 5\n",
      "[-0.14717043]\n"
     ]
    },
    {
     "data": {
      "image/png": "[encoded data removed]",
      "text/plain": [
       "<Figure size 640x480 with 1 Axes>"
      ]
     },
     "metadata": {},
     "output_type": "display_data"
    },
    {
     "name": "stdout",
     "output_type": "stream",
     "text": [
      "Topic: 6\n",
      "[0.18169842]\n"
     ]
    },
    {
     "data": {
      "image/png": "[encoded data removed]",
      "text/plain": [
       "<Figure size 640x480 with 1 Axes>"
      ]
     },
     "metadata": {},
     "output_type": "display_data"
    },
    {
     "name": "stdout",
     "output_type": "stream",
     "text": [
      "Topic: 7\n",
      "[-0.67012401]\n"
     ]
    },
    {
     "data": {
      "image/png": "[encoded data removed]",
      "text/plain": [
       "<Figure size 640x480 with 1 Axes>"
      ]
     },
     "metadata": {},
     "output_type": "display_data"
    },
    {
     "name": "stdout",
     "output_type": "stream",
     "text": [
      "Topic: 8\n",
      "[-0.30667732]\n"
     ]
    },
    {
     "data": {
      "image/png": "[encoded data removed]",
      "text/plain": [
       "<Figure size 640x480 with 1 Axes>"
      ]
     },
     "metadata": {},
     "output_type": "display_data"
    },
    {
     "name": "stdout",
     "output_type": "stream",
     "text": [
      "Topic: 9\n",
      "[0.23634513]\n"
     ]
    },
    {
     "data": {
      "image/png": "[encoded data removed]",
      "text/plain": [
       "<Figure size 640x480 with 1 Axes>"
      ]
     },
     "metadata": {},
     "output_type": "display_data"
    }
   ],
   "source": [
    "for i in range(10):\n",
    "    print(\"Topic: \" + str(i))\n",
    "    topic_data = year_counts_frame[year_counts_frame[\"Topic Number\"] == i]\n",
    "    r_value = r_regression(topic_data[[\"Year\"]], topic_data[\"Yearly Topic Proportion\"])\n",
    "    print(r_value)\n",
    "    sns.regplot(data = topic_data, x = \"Year\", y = \"Yearly Topic Proportion\")\n",
    "    plt.show()"
   ]
  },
  {
   "cell_type": "code",
   "execution_count": 89,
   "id": "da0b4dca",
   "metadata": {},
   "outputs": [
    {
     "name": "stdout",
     "output_type": "stream",
     "text": [
      "0        2700.0\n",
      "1        7200.0\n",
      "2          20.0\n",
      "3          20.0\n",
      "4         900.0\n",
      "          ...  \n",
      "88674    1200.0\n",
      "88675       5.0\n",
      "88676    1020.0\n",
      "88677       0.0\n",
      "88678       0.0\n",
      "Name: duration (seconds), Length: 88679, dtype: float64\n"
     ]
    }
   ],
   "source": [
    "ufo_data[\"duration (seconds)\"] = ufo_data[\"duration (seconds)\"].astype(str).str.replace(\"`\", \"\")\n",
    "ufo_data[\"duration (seconds)\"] = ufo_data[\"duration (seconds)\"].astype(\"float\")\n",
    "print(ufo_data[\"duration (seconds)\"])"
   ]
  },
  {
   "cell_type": "code",
   "execution_count": 119,
   "id": "f67482f8",
   "metadata": {},
   "outputs": [
    {
     "name": "stdout",
     "output_type": "stream",
     "text": [
      "3600.0\n"
     ]
    }
   ],
   "source": [
    "ufo_data[\"duration (seconds)\"] = ufo_data[\"duration (seconds)\"].astype(str).str.replace(\"`\", \"\")\n",
    "ufo_data[\"duration (seconds)\"] = ufo_data[\"duration (seconds)\"].astype(\"float\")\n",
    "ufo_data[\"duration (seconds)\"].describe()\n",
    "percentile_96 = ufo_data[\"duration (seconds)\"].quantile(0.96)\n",
    "print(percentile_96)"
   ]
  },
  {
   "cell_type": "code",
   "execution_count": 127,
   "id": "be9b7e15",
   "metadata": {},
   "outputs": [
    {
     "data": {
      "image/png": "[encoded data removed]",
      "text/plain": [
       "<Figure size 640x480 with 1 Axes>"
      ]
     },
     "metadata": {},
     "output_type": "display_data"
    }
   ],
   "source": [
    "sns.histplot(ufo_data[(ufo_data[\"duration (seconds)\"] < percentile_96)], x = \"duration (seconds)\", bins = 10)\n",
    "plt.show()"
   ]
  }
 ],
 "metadata": {
  "kernelspec": {
   "display_name": "base",
   "language": "python",
   "name": "python3"
  },
  "language_info": {
   "codemirror_mode": {
    "name": "ipython",
    "version": 3
   },
   "file_extension": ".py",
   "mimetype": "text/x-python",
   "name": "python",
   "nbconvert_exporter": "python",
   "pygments_lexer": "ipython3",
   "version": "3.12.8"
  }
 },
 "nbformat": 4,
 "nbformat_minor": 5
}
